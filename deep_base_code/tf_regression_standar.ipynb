{
 "cells": [
  {
   "cell_type": "markdown",
   "id": "f77dd122-c19d-4c63-83fd-f7c881edbbda",
   "metadata": {},
   "source": [
    "## tensorflow 实现线性回归"
   ]
  },
  {
   "cell_type": "code",
   "execution_count": 1,
   "id": "cb3d513d-a285-4622-8484-9eebaab01340",
   "metadata": {},
   "outputs": [
    {
     "name": "stdout",
     "output_type": "stream",
     "text": [
      "tensorflow 2.3.0\n",
      "tensorflow.keras 2.4.0\n",
      "pandas 1.3.3\n",
      "matplotlib 3.4.2\n",
      "numpy 1.18.5\n",
      "sklearn 1.0\n"
     ]
    }
   ],
   "source": [
    "import tensorflow as tf\n",
    "import tensorflow.keras as keras\n",
    "import pandas as pd\n",
    "import matplotlib as mpl\n",
    "import matplotlib.pyplot as plt\n",
    "import numpy as np\n",
    "import sklearn\n",
    "import time\n",
    "import random\n",
    "import os\n",
    "\n",
    "for module in tf, keras, pd, mpl, np, sklearn:\n",
    "    print(module.__name__, module.__version__)"
   ]
  },
  {
   "cell_type": "markdown",
   "id": "c061c15b-d19b-48df-9ddb-8e963f1ea8ed",
   "metadata": {},
   "source": [
    "### 1. 生成数据集"
   ]
  },
  {
   "cell_type": "code",
   "execution_count": 2,
   "id": "2ecc7833-2d14-4de9-ba16-902fd770f87e",
   "metadata": {},
   "outputs": [
    {
     "name": "stdout",
     "output_type": "stream",
     "text": [
      "(10000, 3) (10000,)\n",
      "[[-3.549167   -1.2205924  -2.4376402 ]\n",
      " [-2.0892808   1.4278817   0.4083136 ]\n",
      " [-3.5043025   1.7323956  -3.1746438 ]\n",
      " [ 2.7191412  -0.4684315  -0.63798606]\n",
      " [ 1.140864    0.6738385   0.50637037]] \n",
      " [ -4.692578    -0.22133102 -13.344547     6.610779     5.5883646 ]\n"
     ]
    }
   ],
   "source": [
    "# 定义数据的维度\n",
    "feature_num = 3\n",
    "# 定义数据行数\n",
    "input_num = 10000\n",
    "\n",
    "# 使用正态分布\n",
    "feature = tf.random.normal(shape=(input_num, feature_num), stddev=2)\n",
    "\n",
    "# 定义权重和偏置值\n",
    "true_w = [1.2, -2.2, 3.]\n",
    "true_b = 4.2\n",
    "\n",
    "# 生成 labels\n",
    "labels = true_w[0] * feature[:, 0] + true_w[1] * feature[:, 1] + true_w[2] * feature[:, 2] + true_b\n",
    "# 添加噪声\n",
    "labels += tf.random.normal(labels.shape, stddev=0.02)\n",
    "print(feature.shape, labels.shape)\n",
    "print(feature[:5].numpy(), \"\\n\", labels[:5].numpy())"
   ]
  },
  {
   "cell_type": "markdown",
   "id": "5fbeaafb-343b-45d7-b77b-207e401c6cc2",
   "metadata": {},
   "source": [
    "### 2. 读取数据\n",
    "\n",
    "- dataset.shuffle :\n",
    "    1. shuffle 可以将数据打乱\n",
    "    2. shuffle 的 buffer_size 参数应大于等于样本数，batch 可以指定 batch_size 的分割大小。"
   ]
  },
  {
   "cell_type": "code",
   "execution_count": 13,
   "id": "18001389-6e67-4a2f-819f-f36bbeedebdf",
   "metadata": {},
   "outputs": [
    {
     "name": "stdout",
     "output_type": "stream",
     "text": [
      "tf.Tensor(\n",
      "[[ 0.727077   -1.912732   -0.75884783]\n",
      " [-3.2444994  -0.53297764 -3.7582388 ]\n",
      " [ 0.25169364  1.02628     1.434147  ]\n",
      " ...\n",
      " [ 3.1750088  -1.8997864   1.6457089 ]\n",
      " [ 0.22117324  1.7619385  -4.0208354 ]\n",
      " [ 1.1663364  -0.89056647 -3.559205  ]], shape=(3000, 3), dtype=float32) \n",
      " tf.Tensor(\n",
      "[  6.9954944  -9.786368    6.5648537 ...  17.133238  -11.490167\n",
      "  -3.1036744], shape=(3000,), dtype=float32)\n"
     ]
    }
   ],
   "source": [
    "\n",
    "dataset = tf.data.Dataset.from_tensor_slices((feature, labels))\n",
    "\n",
    "# 打印小批量的数据\n",
    "# shuffle 的 buffer_size 参数应大于等于样本数，batch 可以指定 batch_size 的分割大小。\n",
    "dataset = dataset.shuffle(buffer_size=input_num)\n",
    "# 读取小批次的数据\n",
    "dataset_batch = dataset.batch(3000)\n",
    "for (feature, label) in dataset_batch.take(1):\n",
    "    print(feature, \"\\n\", label)"
   ]
  },
  {
   "cell_type": "code",
   "execution_count": null,
   "outputs": [],
   "source": [],
   "metadata": {
    "collapsed": false,
    "pycharm": {
     "name": "#%%\n"
    }
   }
  }
 ],
 "metadata": {
  "kernelspec": {
   "display_name": "Python 3",
   "language": "python",
   "name": "python3"
  },
  "language_info": {
   "codemirror_mode": {
    "name": "ipython",
    "version": 3
   },
   "file_extension": ".py",
   "mimetype": "text/x-python",
   "name": "python",
   "nbconvert_exporter": "python",
   "pygments_lexer": "ipython3",
   "version": "3.8.8"
  },
  "toc-autonumbering": false,
  "toc-showcode": false,
  "toc-showmarkdowntxt": false,
  "toc-showtags": false
 },
 "nbformat": 4,
 "nbformat_minor": 5
}